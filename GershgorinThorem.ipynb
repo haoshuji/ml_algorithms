{
 "cells": [
  {
   "cell_type": "markdown",
   "metadata": {},
   "source": [
    "## Gershgorin circle theorem"
   ]
  },
  {
   "cell_type": "markdown",
   "metadata": {},
   "source": [
    "> (Weaker Version)\n",
    "> For a n by n square matrix A, all eigenvalues $\\lambda$ exist in the union set : $\\cup_{i=1}^n C_i$, where $C_i$ is a closed disk centered at $A$'s diagonal entry $a_{ii}$ with radius equal to the sum of absolute values of non-diagonal entries in the $i$th row: $R_i = \\sum_{j=1}^n |a_{ij}|$.   "
   ]
  },
  {
   "cell_type": "markdown",
   "metadata": {},
   "source": [
    "Examples are always good to make a mental picture so let's consider some simple examples. "
   ]
  },
  {
   "cell_type": "markdown",
   "metadata": {},
   "source": [
    "### Ex.1 \n",
    "Let's consider \n",
    "$$\n",
    "  A = \\left[\n",
    "    \\begin{array}{rrr}\n",
    "      0 & 1.5 \\\\\n",
    "      -3.5 & 8 \\\\\n",
    "    \\end{array}\n",
    "  \\right]\n",
    "$$\n",
    "So the two centers would be (0, 0) and (8,0). The radius would be 1.5 and 3.5, respectively. "
   ]
  },
  {
   "cell_type": "code",
   "execution_count": 2,
   "metadata": {
    "collapsed": false
   },
   "outputs": [
    {
     "name": "stdout",
     "output_type": "stream",
     "text": [
      "[ 0.72128074  7.27871926]\n"
     ]
    }
   ],
   "source": [
    "# Compute eigenvalues\n",
    "import numpy as np\n",
    "A = np.array([[0,1.5], [-3.5, 8]])\n",
    "eigvals, _ = np.linalg.eig(A)\n",
    "print(eigvals)"
   ]
  },
  {
   "cell_type": "code",
   "execution_count": 26,
   "metadata": {
    "collapsed": false
   },
   "outputs": [
    {
     "data": {
      "image/png": "[encoded data removed]",
      "text/plain": [
       "<matplotlib.figure.Figure at 0x10bff4a58>"
      ]
     },
     "metadata": {},
     "output_type": "display_data"
    }
   ],
   "source": [
    "%matplotlib inline\n",
    "import matplotlib.pyplot as plt\n",
    "plt.figure(figsize=(8,8))\n",
    "plt.axis([-5.0,15.0,-10.0,10.0],size=20)\n",
    "plt.grid(True)\n",
    "circle1 = plt.Circle((0, 0), 1.5, color='r', fill=False)\n",
    "circle2 = plt.Circle((8, 0), 3.5, color='r', fill=False)\n",
    "ax = plt.gca()\n",
    "ax.add_artist(circle1)\n",
    "ax.add_artist(circle2)\n",
    "plt.plot([eigvals[0]], [0], 'bo', [eigvals[1]],[0], 'bo')\n",
    "plt.ylabel('Im'); plt.xlabel('Re')\n",
    "plt.show()"
   ]
  },
  {
   "cell_type": "markdown",
   "metadata": {},
   "source": [
    "We see that all eigenvalues exists in one of the red circles. "
   ]
  },
  {
   "cell_type": "markdown",
   "metadata": {},
   "source": [
    "Note that the weaker version of the theorem says that every eigenvalue exists in some disk. It doesn't say that each disk contains an eigenvalue. \n",
    "The stronger version says:\n",
    "\n",
    "> Each joint set contains the same number of eigenvalues as the number of disks that constructs each joint set. "
   ]
  },
  {
   "cell_type": "code",
   "execution_count": 27,
   "metadata": {
    "collapsed": true
   },
   "outputs": [],
   "source": [
    "import tensorflow as tf\n",
    "import numpy as np\n",
    "import math"
   ]
  },
  {
   "cell_type": "code",
   "execution_count": 33,
   "metadata": {
    "collapsed": false
   },
   "outputs": [
    {
     "name": "stderr",
     "output_type": "stream",
     "text": [
      "Exception ignored in: <bound method InteractiveSession.__del__ of <tensorflow.python.client.session.InteractiveSession object at 0x114bf5ba8>>\n",
      "Traceback (most recent call last):\n",
      "  File \"/usr/local/lib/python3.4/site-packages/tensorflow/python/client/session.py\", line 171, in __del__\n",
      "    self.close()\n",
      "  File \"/usr/local/lib/python3.4/site-packages/tensorflow/python/client/session.py\", line 976, in close\n",
      "    self._default_session.__exit__(None, None, None)\n",
      "  File \"/usr/local/Cellar/python3/3.4.3_2/Frameworks/Python.framework/Versions/3.4/lib/python3.4/contextlib.py\", line 66, in __exit__\n",
      "    next(self.gen)\n",
      "  File \"/usr/local/lib/python3.4/site-packages/tensorflow/python/framework/ops.py\", line 3378, in get_controller\n",
      "    % type(default))\n",
      "AssertionError: Nesting violated for default stack of <class 'weakref'> objects\n"
     ]
    }
   ],
   "source": [
    "session = tf.InteractiveSession()\n",
    "data = tf.placeholder(tf.float32, [1, 2])\n",
    "target = tf.placeholder(tf.int32, [1])\n",
    "loss = tf.nn.sparse_softmax_cross_entropy_with_logits(data, target)"
   ]
  },
  {
   "cell_type": "code",
   "execution_count": null,
   "metadata": {
    "collapsed": true
   },
   "outputs": [],
   "source": [
    "x = np.array([-0.0635045, -0.06278798, -0.06256488, -0.061831377, -0.061718628, -0.061174266, -0.061281644, -0.060940977, -0.061206117, -0.060976487, -0.060606305, -0.060905568, -0.061456777])\n",
    "y = np.array([1,0,1,0,1,1,1,0,1,1,0,0,1])\n",
    "\n",
    "session.run([loss],)"
   ]
  }
 ],
 "metadata": {
  "kernelspec": {
   "display_name": "Python 3",
   "language": "python",
   "name": "python3"
  },
  "language_info": {
   "codemirror_mode": {
    "name": "ipython",
    "version": 3
   },
   "file_extension": ".py",
   "mimetype": "text/x-python",
   "name": "python",
   "nbconvert_exporter": "python",
   "pygments_lexer": "ipython3",
   "version": "3.4.3"
  }
 },
 "nbformat": 4,
 "nbformat_minor": 0
}
