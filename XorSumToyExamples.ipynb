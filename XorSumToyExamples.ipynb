{
 "cells": [
  {
   "cell_type": "markdown",
   "metadata": {},
   "source": [
    "## Introduction\n",
    "People say RNN can solve the XOR problem, meaning there is a configuration of weight matrix that calculates the desired value given an input. But can RNN learn the XOR function from data?  "
   ]
  },
  {
   "cell_type": "code",
   "execution_count": 1,
   "metadata": {
    "collapsed": true
   },
   "outputs": [],
   "source": [
    "import tensorflow as tf\n",
    "import numpy as np\n",
    "import matplotlib.pyplot as plt"
   ]
  },
  {
   "cell_type": "markdown",
   "metadata": {},
   "source": [
    "### Setting\n",
    "Inputs: [1, 0], [1, 1], [0, 1], [0, 0]\n",
    "One hidden layer with two hidden units. One output. "
   ]
  },
  {
   "cell_type": "code",
   "execution_count": 2,
   "metadata": {
    "collapsed": true
   },
   "outputs": [],
   "source": [
    "def generateXORData(n):\n",
    "    list = []\n",
    "    target = []\n",
    "    dict = {0: np.array([[0,0]]), 1: np.array([[0, 1]]), 2: np.array([[1,0]]), 3: np.array([[1,1]])}\n",
    "    dict_target = {0: np.array([[0]]), 1: np.array([[1]]), 2: np.array([[1]]), 3: np.array([[0]])}\n",
    "    for i in range(n):\n",
    "        idx = np.random.randint(4)\n",
    "        list.append(dict[idx])\n",
    "        target.append(dict_target[idx])\n",
    "    return list, target"
   ]
  },
  {
   "cell_type": "code",
   "execution_count": 8,
   "metadata": {
    "collapsed": false
   },
   "outputs": [
    {
     "name": "stdout",
     "output_type": "stream",
     "text": [
      "Epoch: 0: loss: 0.247655\n",
      "Epoch: 1: loss: 0.170642\n",
      "Epoch: 2: loss: 0.022981\n",
      "Epoch: 3: loss: 0.007162\n",
      "Epoch: 4: loss: 0.004004\n",
      "Epoch: 5: loss: 0.002646\n",
      "Epoch: 6: loss: 0.001909\n",
      "Epoch: 7: loss: 0.001455\n",
      "Epoch: 8: loss: 0.001152\n",
      "Epoch: 9: loss: 0.000938\n",
      "Epoch: 10: loss: 0.000780\n",
      "Epoch: 11: loss: 0.000659\n",
      "Epoch: 12: loss: 0.000565\n",
      "Epoch: 13: loss: 0.000490\n",
      "Epoch: 14: loss: 0.000428\n",
      "Epoch: 15: loss: 0.000378\n",
      "Epoch: 16: loss: 0.000335\n",
      "Epoch: 17: loss: 0.000300\n",
      "Epoch: 18: loss: 0.000269\n",
      "Epoch: 19: loss: 0.000243\n",
      "BasicRNNCell/Linear/Matrix:0\n",
      "[[ 4.8517561   4.94526243]\n",
      " [-4.46192932 -5.37289476]\n",
      " [ 0.52486151 -0.4099088 ]\n",
      " [ 0.27126914 -0.21353722]]\n",
      "BasicRNNCell/Linear/Bias:0\n",
      "[ 2.0335505  -2.26437902]\n",
      "Variable:0\n",
      "[[-4.35594225]\n",
      " [ 4.3223362 ]]\n",
      "Variable_1:0\n",
      "[ 4.04108715]\n"
     ]
    },
    {
     "data": {
      "image/png": "[encoded data removed]",
      "text/plain": [
       "<matplotlib.figure.Figure at 0x11772c8d0>"
      ]
     },
     "metadata": {},
     "output_type": "display_data"
    }
   ],
   "source": [
    "# This model uses RNN to solve XOR problem\n",
    "with tf.Graph().as_default():\n",
    "    batch_size = 1\n",
    "    input = tf.placeholder(tf.float32, [batch_size, 2])\n",
    "    target = tf.placeholder(tf.float32, [batch_size, 1])\n",
    "    hidden_size = 2\n",
    "    cell = tf.nn.rnn_cell.BasicRNNCell(hidden_size)\n",
    "    state = cell.zero_state(batch_size, dtype=tf.float32)\n",
    "    output, state = cell(input, state) \n",
    "    weight = tf.Variable(tf.zeros([2,1])) # actually [2, batch_size]\n",
    "    bias = tf.Variable(tf.zeros([batch_size]))\n",
    "    output = tf.nn.sigmoid(tf.matmul(output, weight) + bias)\n",
    "    loss = tf.squeeze(tf.square(output - target))\n",
    "    lr = 0.1\n",
    "    # train_op = tf.train.GradientDescentOptimizer(lr).minimize(loss)\n",
    "    train_op = tf.train.AdamOptimizer(lr).minimize(loss)\n",
    "    \n",
    "    with tf.Session() as sess:\n",
    "        sess.run(tf.initialize_all_variables())\n",
    "        n = 100 # training examples\n",
    "        inputs, targets = generateXORData(n)\n",
    "        max_epoch = 20\n",
    "        cost_list = []\n",
    "        for epoch in range(max_epoch):\n",
    "            total_cost = 0\n",
    "            for x,y in zip(inputs, targets):\n",
    "                feed_dict = {input: x, target: y}\n",
    "                _, cost = sess.run([train_op, loss], feed_dict=feed_dict)\n",
    "                #print(cost)\n",
    "                total_cost += cost\n",
    "            \n",
    "            print(\"Epoch: %d: loss: %f\" % (epoch, total_cost / n))\n",
    "            cost_list.append(total_cost)\n",
    "        %matplotlib inline\n",
    "        plt_out = plt.plot(range(max_epoch), cost_list)\n",
    "        for var in tf.trainable_variables():\n",
    "            print(var.name)\n",
    "            print(var.eval())\n",
    "            #sess.run()"
   ]
  },
  {
   "cell_type": "markdown",
   "metadata": {},
   "source": [
    "Comment: \n",
    "Adam is much easier to optimize than SGD. Yet, there are some local minima (sometimes it stucked around loss values 0.13~0.14)\n",
    "What does the loss surface look like in XOR problem? Right now #parameters is 21, so it is a 21-dimensional space. How can we \"see\" the loss surface in a way that preserves the important information? Can I just do PCA or something?"
   ]
  },
  {
   "cell_type": "code",
   "execution_count": 9,
   "metadata": {
    "collapsed": true
   },
   "outputs": [],
   "source": [
    "# Validation on test data\n"
   ]
  },
  {
   "cell_type": "code",
   "execution_count": 12,
   "metadata": {
    "collapsed": false
   },
   "outputs": [
    {
     "name": "stdout",
     "output_type": "stream",
     "text": [
      "Epoch: 0: loss: 0.236266\n",
      "Epoch: 1: loss: 0.158321\n",
      "Epoch: 2: loss: 0.136404\n",
      "Epoch: 3: loss: 0.131505\n",
      "Epoch: 4: loss: 0.107411\n",
      "Epoch: 5: loss: 0.040295\n",
      "Epoch: 6: loss: 0.011510\n",
      "Epoch: 7: loss: 0.005684\n",
      "Epoch: 8: loss: 0.003573\n",
      "Epoch: 9: loss: 0.002517\n",
      "Epoch: 10: loss: 0.001892\n",
      "Epoch: 11: loss: 0.001485\n",
      "Epoch: 12: loss: 0.001203\n",
      "Epoch: 13: loss: 0.000998\n",
      "Epoch: 14: loss: 0.000843\n",
      "Epoch: 15: loss: 0.000722\n",
      "Epoch: 16: loss: 0.000626\n",
      "Epoch: 17: loss: 0.000548\n",
      "Epoch: 18: loss: 0.000483\n",
      "Epoch: 19: loss: 0.000430\n",
      "hidden/weights:0\n",
      "[[-11.19588661  -6.02444744]\n",
      " [-10.69486523  -6.11444902]]\n",
      "hidden/biases:0\n",
      "[ 4.34376049  8.56952763]\n",
      "linear/weights:0\n",
      "[[-9.27740383]\n",
      " [ 8.38130283]]\n",
      "linear/biases:0\n",
      "[-3.47167492]\n"
     ]
    },
    {
     "data": {
      "image/png": "[encoded data removed]",
      "text/plain": [
       "<matplotlib.figure.Figure at 0x117827a90>"
      ]
     },
     "metadata": {},
     "output_type": "display_data"
    }
   ],
   "source": [
    "# This script is to validate the results from\"Analysis of the Error Surface of the XOR Network with Two Hidden Nodes\"\n",
    "with tf.Graph().as_default():\n",
    "    batch_size = 1\n",
    "    input = tf.placeholder(tf.float32, [batch_size, 2])\n",
    "    target = tf.placeholder(tf.float32, [batch_size, 1])\n",
    "    hidden_size = 2\n",
    "    with tf.name_scope(\"hidden\") as scope:\n",
    "        weights = tf.Variable(tf.truncated_normal([2,2]), tf.float32, name=\"weights\")\n",
    "        biases = tf.Variable(tf.zeros([2]), tf.float32, name=\"biases\")\n",
    "        hidden = tf.sigmoid(tf.matmul(input, weights) + biases)  # cell = tf.nn.rnn_cell.BasicRNNCell(hidden_size)\n",
    "    with tf.name_scope(\"linear\") as scope:\n",
    "        weights = tf.Variable(tf.zeros([2,1]), name=\"weights\") # actually [2, batch_size]\n",
    "        biases = tf.Variable(tf.zeros([batch_size]), name=\"biases\")\n",
    "        output = tf.nn.sigmoid(tf.matmul(hidden, weights) + biases)\n",
    "    loss = tf.squeeze(tf.square(output - target))\n",
    "    lr = 0.1\n",
    "    # train_op = tf.train.GradientDescentOptimizer(lr).minimize(loss)\n",
    "    train_op = tf.train.AdamOptimizer(lr).minimize(loss)\n",
    "    \n",
    "    with tf.Session() as sess:\n",
    "        sess.run(tf.initialize_all_variables())\n",
    "        n = 100 # training examples\n",
    "        inputs, targets = generateXORData(n)\n",
    "        max_epoch = 20\n",
    "        cost_list = []\n",
    "        for epoch in range(max_epoch):\n",
    "            total_cost = 0\n",
    "            for x,y in zip(inputs, targets):\n",
    "                feed_dict = {input: x, target: y}\n",
    "                _, cost = sess.run([train_op, loss], feed_dict=feed_dict)\n",
    "                #print(cost)\n",
    "                total_cost += cost\n",
    "            \n",
    "            print(\"Epoch: %d: loss: %f\" % (epoch, total_cost / n))\n",
    "            cost_list.append(total_cost / n)\n",
    "        %matplotlib inline\n",
    "        plt_out = plt.plot(range(max_epoch), cost_list)\n",
    "        for var in tf.trainable_variables():\n",
    "            print(var.name)\n",
    "            print(var.eval())\n",
    "            #sess.run()"
   ]
  },
  {
   "cell_type": "markdown",
   "metadata": {},
   "source": [
    "## Reading List:\n",
    "- Search: xor problem local minima\n",
    "- Visualization of the search space of MLP using PCA (This might be also useful for LearnToLearn: http://staff.itee.uq.edu.au/marcusg/gallagher_phd.pdf) \n",
    "- Local Minima and Plateaus in Multilayer Neural Networks (looks very very solid) http://www.ism.ac.jp/~fukumizu/papers/icann99.pdf\n",
    "- 3-D xor problem https://web.stanford.edu/group/pdplab/pdphandbook/handbookch6.html\n",
    "- http://stackoverflow.com/questions/33997823/tensorflow-mlp-not-training-xor\n",
    "- Analysis of the Error Surface of the XOR Network with Two Hidden Nodes http://citeseerx.ist.psu.edu/viewdoc/download?doi=10.1.1.55.2545&rep=rep1&type=pdf\n",
    "- 488 Solutions to the XOR Problem https://papers.nips.cc/paper/1298-488-solutions-to-the-xor-problem.pdf\n",
    "- The Error Surface of the simplest XOR Network has only global Minima http://www.socsci.ru.nl/idak/publications/papers/NeuralComputation.pdf\n",
    "- Learning XOR: exploring the space of a classic problem http://www.cs.stir.ac.uk/research/publications/techreps/pdf/TR148.pdf"
   ]
  },
  {
   "cell_type": "markdown",
   "metadata": {},
   "source": [
    "Next, let's try with the sum problem. The training examples are "
   ]
  },
  {
   "cell_type": "code",
   "execution_count": null,
   "metadata": {
    "collapsed": true
   },
   "outputs": [],
   "source": []
  },
  {
   "cell_type": "code",
   "execution_count": null,
   "metadata": {
    "collapsed": true
   },
   "outputs": [],
   "source": [
    "with tf.Graph().as_default():\n",
    "    "
   ]
  }
 ],
 "metadata": {
  "kernelspec": {
   "display_name": "Python 3",
   "language": "python",
   "name": "python3"
  },
  "language_info": {
   "codemirror_mode": {
    "name": "ipython",
    "version": 3
   },
   "file_extension": ".py",
   "mimetype": "text/x-python",
   "name": "python",
   "nbconvert_exporter": "python",
   "pygments_lexer": "ipython3",
   "version": "3.4.3"
  }
 },
 "nbformat": 4,
 "nbformat_minor": 0
}
